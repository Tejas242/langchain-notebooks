{
 "cells": [
  {
   "cell_type": "code",
   "execution_count": 3,
   "id": "14cdb299-b242-4485-9bed-f6ffdad28e51",
   "metadata": {},
   "outputs": [
    {
     "name": "stdin",
     "output_type": "stream",
     "text": [
      " ········\n"
     ]
    }
   ],
   "source": [
    "import getpass\n",
    "import os\n",
    "\n",
    "os.environ[\"GROQ_API_KEY\"] = getpass.getpass()\n",
    "\n",
    "from langchain_groq import ChatGroq\n",
    "\n",
    "model = ChatGroq(model=\"llama3-8b-8192\")"
   ]
  },
  {
   "cell_type": "code",
   "execution_count": 4,
   "id": "f31b29f8-a6c3-4432-b60c-1c6a1d8a7d49",
   "metadata": {},
   "outputs": [
    {
     "data": {
      "text/plain": [
       "AIMessage(content='Ciao!', additional_kwargs={}, response_metadata={'token_usage': {'completion_tokens': 4, 'prompt_tokens': 24, 'total_tokens': 28, 'completion_time': 0.003333333, 'prompt_time': 0.003105405, 'queue_time': 0.011489543, 'total_time': 0.006438738}, 'model_name': 'llama3-8b-8192', 'system_fingerprint': 'fp_6a6771ae9c', 'finish_reason': 'stop', 'logprobs': None}, id='run-5e11930d-2da4-4013-bd53-c995416b63f4-0', usage_metadata={'input_tokens': 24, 'output_tokens': 4, 'total_tokens': 28})"
      ]
     },
     "execution_count": 4,
     "metadata": {},
     "output_type": "execute_result"
    }
   ],
   "source": [
    "from langchain_core.messages import HumanMessage, SystemMessage\n",
    "\n",
    "messages = [\n",
    "    SystemMessage(content=\"Translate the following from English into Italian\"),\n",
    "    HumanMessage(content=\"hi!\"),\n",
    "]\n",
    "\n",
    "model.invoke(messages)"
   ]
  },
  {
   "cell_type": "code",
   "execution_count": 8,
   "id": "41e86953-ff90-4276-8920-544104b89b31",
   "metadata": {},
   "outputs": [
    {
     "data": {
      "text/plain": [
       "'According to various dictionaries, a question is defined as:\\n\\n* \"A sentence or phrase that asks for information or an explanation\" (Merriam-Webster)\\n* \"A sentence or phrase that asks for information, requires a response, or expresses uncertainty or inquiry\" (Oxford English Dictionary)\\n* \"A sentence or phrase that is used to ask for information, advice, or an explanation, and is typically followed by a verb in the form of \\'What?\\', \\'Why?\\', \\'How?\\', etc.\" (Cambridge Dictionary)\\n\\nIn general, a question is a linguistic expression that seeks information, clarification, or an answer from someone or something. It is typically marked by a verb in the interrogative form (e.g., \"What?\", \"Why?\", \"How?\", etc.) and usually ends with a question mark (?) or an exclamation mark (!). Questions can be asked in various forms, including written or spoken language, and are an essential part of communication and learning.'"
      ]
     },
     "execution_count": 8,
     "metadata": {},
     "output_type": "execute_result"
    }
   ],
   "source": [
    "from langchain_core.messages import HumanMessage\n",
    "\n",
    "response = model.invoke([HumanMessage(content=\"\")])\n",
    "response.content"
   ]
  },
  {
   "cell_type": "code",
   "execution_count": 11,
   "id": "eceece33-860c-4324-99f8-bd27ba7e281d",
   "metadata": {},
   "outputs": [],
   "source": [
    "!pip install -qU langchain-community wikipedia"
   ]
  },
  {
   "cell_type": "code",
   "execution_count": 14,
   "id": "f9fae645-096a-48be-a0df-c4e94003a84d",
   "metadata": {},
   "outputs": [
    {
     "name": "stdout",
     "output_type": "stream",
     "text": [
      "Page: LangChain\n",
      "Summary: LangChain is a software framework that helps facilitate the integration of large language models (LLMs) into applications. As a language model integration framework, LangChain's use-cases largely overlap with those of language models in general, including document analysis and summarization, chatbots, and code analysis.\n"
     ]
    }
   ],
   "source": [
    "from langchain_community.tools import WikipediaQueryRun\n",
    "from langchain_community.utilities import WikipediaAPIWrapper\n",
    "\n",
    "api_wrapper = WikipediaAPIWrapper(top_k_results=1, doc_content_chars_max=1000)\n",
    "tool = WikipediaQueryRun(api_wrapper=api_wrapper)\n",
    "\n",
    "print(tool.invoke({\"query\": \"langchain\"}))"
   ]
  },
  {
   "cell_type": "code",
   "execution_count": 13,
   "id": "e30413c1-0aa7-44b0-88be-e1be8dede73d",
   "metadata": {},
   "outputs": [
    {
     "name": "stdout",
     "output_type": "stream",
     "text": [
      "Page: LangChain\n",
      "Summary: LangChain is a software framework that helps facilitate the integration of \n"
     ]
    }
   ],
   "source": [
    "from langchain_community.tools import WikipediaQueryRun\n",
    "from langchain_community.utilities import WikipediaAPIWrapper\n",
    "from pydantic import BaseModel, Field\n",
    "\n",
    "\n",
    "class WikiInputs(BaseModel):\n",
    "    \"\"\"Inputs to the wikipedia tool.\"\"\"\n",
    "\n",
    "    query: str = Field(\n",
    "        description=\"query to look up in Wikipedia, should be 3 or less words\"\n",
    "    )\n",
    "\n",
    "\n",
    "tool = WikipediaQueryRun(\n",
    "    name=\"wiki-tool\",\n",
    "    description=\"look up things in wikipedia\",\n",
    "    args_schema=WikiInputs,\n",
    "    api_wrapper=api_wrapper,\n",
    "    return_direct=True,\n",
    ")\n",
    "\n",
    "print(tool.run(\"langchain\"))"
   ]
  },
  {
   "cell_type": "code",
   "execution_count": 15,
   "id": "1daa32a5-e389-4b3a-9dfa-aa2d22678f0e",
   "metadata": {},
   "outputs": [
    {
     "name": "stdout",
     "output_type": "stream",
     "text": [
      "Name: wikipedia\n",
      "Description: A wrapper around Wikipedia. Useful for when you need to answer general questions about people, places, companies, facts, historical events, or other subjects. Input should be a search query.\n",
      "args schema: {'query': {'description': 'query to look up on wikipedia', 'title': 'Query', 'type': 'string'}}\n",
      "returns directly?: False\n"
     ]
    }
   ],
   "source": [
    "print(f\"Name: {tool.name}\")\n",
    "print(f\"Description: {tool.description}\")\n",
    "print(f\"args schema: {tool.args}\")\n",
    "print(f\"returns directly?: {tool.return_direct}\")"
   ]
  },
  {
   "cell_type": "code",
   "execution_count": 34,
   "id": "656052db-e9a8-4cc7-ba31-a792d75fce8a",
   "metadata": {},
   "outputs": [],
   "source": [
    "import os\n",
    "\n",
    "from langchain_community.tools.google_finance import GoogleFinanceQueryRun\n",
    "from langchain_community.utilities.google_finance import GoogleFinanceAPIWrapper\n",
    "\n",
    "os.environ[\"SERPAPI_API_KEY\"] = \"\"\n",
    "tool = GoogleFinanceQueryRun(api_wrapper=GoogleFinanceAPIWrapper())"
   ]
  },
  {
   "cell_type": "code",
   "execution_count": 35,
   "id": "3ba0eee0-1f81-436b-a8ad-23e9c054849b",
   "metadata": {},
   "outputs": [
    {
     "data": {
      "text/plain": [
       "'\\nQuery: Google\\nstock: GOOG:NASDAQ\\nprice: $173.82\\npercentage: 1.99\\nmovement: Down\\nus: price = 43440.23, movement = Down\\neurope: price = 19220.03, movement = Down\\nasia: price = 38642.91, movement = Up\\n'"
      ]
     },
     "execution_count": 35,
     "metadata": {},
     "output_type": "execute_result"
    }
   ],
   "source": [
    "tool.run(\"Google\")"
   ]
  },
  {
   "cell_type": "code",
   "execution_count": 36,
   "id": "879f16a5-874a-4d04-b397-bff42b6e91aa",
   "metadata": {},
   "outputs": [],
   "source": [
    "import os\n",
    "\n",
    "from langchain.agents import AgentType, initialize_agent, load_tools"
   ]
  },
  {
   "cell_type": "code",
   "execution_count": 44,
   "id": "6a47645f-9cb3-4ec9-92b8-4ce7f7e641d2",
   "metadata": {},
   "outputs": [
    {
     "name": "stdout",
     "output_type": "stream",
     "text": [
      "\n",
      "\n",
      "\u001b[1m> Entering new AgentExecutor chain...\u001b[0m\n",
      "\u001b[32;1m\u001b[1;3mLet's dive in!\n",
      "\n",
      "Thought: I should try to gather some information about Apple's current stock price and performance before making an investment decision.\n",
      "\n",
      "Action: google_finance\n",
      "Action Input: \"Apple stock price\"\u001b[0m\n",
      "Observation: \u001b[36;1m\u001b[1;3m\n",
      "Query: Apple stock price\n",
      "No summary information\n",
      "us: price = 43427.22, movement = Down\n",
      "europe: price = 19220.03, movement = Down\n",
      "asia: price = 38642.91, movement = Up\n",
      "\u001b[0m\n",
      "Thought:\u001b[32;1m\u001b[1;3mThought: Okay, it seems like Apple's stock price is currently experiencing a mixed performance, with a decline in the US and Europe, but an increase in Asia. This could be due to various factors such as market trends, company performance, and global events.\n",
      "\n",
      "Action: google_finance\n",
      "Action Input: \"Apple stock performance\"\u001b[0m\n",
      "Observation: \u001b[36;1m\u001b[1;3m\n",
      "Query: Apple stock performance\n",
      "No summary information\n",
      "us: price = 43427.22, movement = Down\n",
      "europe: price = 19220.03, movement = Down\n",
      "asia: price = 38642.91, movement = Up\n",
      "\u001b[0m\n",
      "Thought:\u001b[32;1m\u001b[1;3mThought: It seems that my previous observation on Apple's stock price and performance was accurate, with a consistent decline in the US and Europe, and an increase in Asia. This could indicate a trend worth considering.\n",
      "\n",
      "Action: google_finance\n",
      "Action Input: \"Apple earnings\"\u001b[0m\n",
      "Observation: \u001b[36;1m\u001b[1;3m\n",
      "Query: Apple earnings\n",
      "No summary information\n",
      "europe: price = 19220.03, movement = Down\n",
      "asia: price = 38642.91, movement = Up\n",
      "\u001b[0m\n",
      "Thought:\u001b[32;1m\u001b[1;3mHere's the continued response:\n",
      "\n",
      "Thought: Ah, it looks like Apple's earnings might be a good indicator of the company's performance. Let me see what I can find...\n",
      "\n",
      "Action: google_finance\n",
      "Action Input: \"Apple earnings report\"\u001b[0m\n",
      "Observation: \u001b[36;1m\u001b[1;3m\n",
      "Query: Apple earnings report\n",
      "No summary information\n",
      "us: price = 43426.93, movement = Down\n",
      "europe: price = 19220.03, movement = Down\n",
      "asia: price = 38642.91, movement = Up\n",
      "\u001b[0m\n",
      "Thought:\u001b[32;1m\u001b[1;3mHere's my response:\n",
      "\n",
      "Thought: Ah, it looks like Apple's earnings might be a good indicator of the company's performance. Let me see what I can find...\n",
      "\n",
      "Action: google_finance\n",
      "Action Input: \"Apple earnings report\"\u001b[0m\n",
      "Observation: \u001b[36;1m\u001b[1;3m\n",
      "Query: Apple earnings report\n",
      "No summary information\n",
      "us: price = 43426.93, movement = Down\n",
      "europe: price = 19220.03, movement = Down\n",
      "asia: price = 38642.91, movement = Up\n",
      "\u001b[0m\n",
      "Thought:\u001b[32;1m\u001b[1;3mHere's the response:\n",
      "\n",
      "Thought: I now know the final answer\n",
      "\n",
      "Final Answer: It seems that Apple's stock price is experiencing a mixed performance, with a consistent decline in the US and Europe, and an increase in Asia. The earnings report does not provide any information that would suggest when to invest in Apple. However, considering the current trend, it might be worth considering investing in Apple's Asian market, as the stock price is increasing there.\u001b[0m\n",
      "\n",
      "\u001b[1m> Finished chain.\u001b[0m\n"
     ]
    },
    {
     "data": {
      "text/plain": [
       "\"It seems that Apple's stock price is experiencing a mixed performance, with a consistent decline in the US and Europe, and an increase in Asia. The earnings report does not provide any information that would suggest when to invest in Apple. However, considering the current trend, it might be worth considering investing in Apple's Asian market, as the stock price is increasing there.\""
      ]
     },
     "execution_count": 44,
     "metadata": {},
     "output_type": "execute_result"
    }
   ],
   "source": [
    "llm = ChatGroq(model=\"llama3-8b-8192\")\n",
    "tools = load_tools([\"google-finance\"], llm=llm)\n",
    "agent = initialize_agent(\n",
    "    tools, llm, agent=AgentType.ZERO_SHOT_REACT_DESCRIPTION, verbose=True, handle_parsing_errors=True\n",
    ")\n",
    "agent.run(\"When should I invest in Apple?\")"
   ]
  },
  {
   "cell_type": "code",
   "execution_count": null,
   "id": "d652d9a0-122b-471f-a0fe-05673e40b82f",
   "metadata": {},
   "outputs": [],
   "source": []
  }
 ],
 "metadata": {
  "kernelspec": {
   "display_name": "Python 3 (ipykernel)",
   "language": "python",
   "name": "python3"
  },
  "language_info": {
   "codemirror_mode": {
    "name": "ipython",
    "version": 3
   },
   "file_extension": ".py",
   "mimetype": "text/x-python",
   "name": "python",
   "nbconvert_exporter": "python",
   "pygments_lexer": "ipython3",
   "version": "3.12.2"
  }
 },
 "nbformat": 4,
 "nbformat_minor": 5
}
